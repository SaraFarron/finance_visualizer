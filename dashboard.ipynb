{
 "cells": [
  {
   "cell_type": "code",
   "execution_count": null,
   "metadata": {},
   "outputs": [],
   "source": [
    "from main import piecharts, open_csv, separate_income_and_expences\n",
    "\n",
    "FILE_NAME = 'operations Thu Mar 03 07_42_36 MSK 2022-Thu Mar 31 13_01_32 MSK 2022.csv'\n",
    "file_data = open_csv(FILE_NAME)\n",
    "expence, income = separate_income_and_expences(file_data)"
   ]
  },
  {
   "cell_type": "code",
   "execution_count": null,
   "metadata": {},
   "outputs": [],
   "source": [
    "piecharts(file_data, expence, income)"
   ]
  }
 ],
 "metadata": {
  "interpreter": {
   "hash": "5e8ce4bb0678afa96d5bc76d82321276aa276ad809b134e950bcc6da2db7d930"
  },
  "kernelspec": {
   "display_name": "Python 3.10.0 ('finvisenv': venv)",
   "language": "python",
   "name": "python3"
  },
  "language_info": {
   "codemirror_mode": {
    "name": "ipython",
    "version": 3
   },
   "file_extension": ".py",
   "mimetype": "text/x-python",
   "name": "python",
   "nbconvert_exporter": "python",
   "pygments_lexer": "ipython3",
   "version": "3.10.0"
  },
  "orig_nbformat": 4
 },
 "nbformat": 4,
 "nbformat_minor": 2
}
