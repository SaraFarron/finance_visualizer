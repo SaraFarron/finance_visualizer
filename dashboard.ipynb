{
 "cells": [
  {
   "cell_type": "code",
   "execution_count": null,
   "metadata": {
    "pycharm": {
     "is_executing": true
    }
   },
   "outputs": [],
   "source": [
    "from main import main\n",
    "\n",
    "start = '01.01.2022 11:02:07'  # default 01.01.2017 00:00:00\n",
    "end = '01.04.2022 05:59:23'\n",
    "main(start, end)"
   ]
  }
 ],
 "metadata": {
  "interpreter": {
   "hash": "5e8ce4bb0678afa96d5bc76d82321276aa276ad809b134e950bcc6da2db7d930"
  },
  "kernelspec": {
   "display_name": "Python 3.10.0 ('finvisenv': venv)",
   "language": "python",
   "name": "python3"
  },
  "language_info": {
   "codemirror_mode": {
    "name": "ipython",
    "version": 3
   },
   "file_extension": ".py",
   "mimetype": "text/x-python",
   "name": "python",
   "nbconvert_exporter": "python",
   "pygments_lexer": "ipython3",
   "version": "3.10.0"
  },
  "orig_nbformat": 4
 },
 "nbformat": 4,
 "nbformat_minor": 2
}